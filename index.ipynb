{
 "cells": [
  {
   "cell_type": "markdown",
   "metadata": {},
   "source": [
    "# Interactions - Lab"
   ]
  },
  {
   "cell_type": "markdown",
   "metadata": {},
   "source": [
    "## Introduction"
   ]
  },
  {
   "cell_type": "markdown",
   "metadata": {},
   "source": [
    "In this lab, you'll explore interactions in the Ames Housing dataset."
   ]
  },
  {
   "cell_type": "markdown",
   "metadata": {},
   "source": [
    "## Objectives"
   ]
  },
  {
   "cell_type": "markdown",
   "metadata": {},
   "source": [
    "You will be able to:\n",
    "- Implement interaction terms in Python using the `sklearn` and `statsmodels` packages \n",
    "- Interpret interaction variables in the context of a real-world problem "
   ]
  },
  {
   "cell_type": "markdown",
   "metadata": {},
   "source": [
    "## Build a baseline model "
   ]
  },
  {
   "cell_type": "markdown",
   "metadata": {},
   "source": [
    "You'll use a couple of built-in functions, which we imported for you below: "
   ]
  },
  {
   "cell_type": "code",
   "execution_count": 84,
   "metadata": {},
   "outputs": [],
   "source": [
    "from sklearn.linear_model import LinearRegression\n",
    "from sklearn.model_selection import cross_val_score\n",
    "from sklearn.model_selection import KFold\n",
    "import pandas as pd\n",
    "import numpy as np\n",
    "import matplotlib.pyplot as plt"
   ]
  },
  {
   "cell_type": "markdown",
   "metadata": {},
   "source": [
    "If you still want to build a model in the end, you can do that, but this lab will just focus on finding meaningful insights in interactions and how they can improve $R^2$ values."
   ]
  },
  {
   "cell_type": "code",
   "execution_count": 85,
   "metadata": {},
   "outputs": [],
   "source": [
    "regression = LinearRegression()"
   ]
  },
  {
   "cell_type": "markdown",
   "metadata": {},
   "source": [
    "Create a baseline model which includes all the variables we selected from the Ames housing data set to predict the house prices. Then use 10-fold cross-validation and report the mean $R^2$ value as the baseline $R^2$."
   ]
  },
  {
   "cell_type": "code",
   "execution_count": 86,
   "metadata": {},
   "outputs": [],
   "source": [
    "ames = pd.read_csv('ames.csv')\n",
    "\n",
    "continuous = ['LotArea', '1stFlrSF', 'GrLivArea', 'SalePrice']\n",
    "categoricals = ['BldgType', 'KitchenQual', 'SaleType', 'MSZoning', 'Street', 'Neighborhood']"
   ]
  },
  {
   "cell_type": "code",
   "execution_count": 87,
   "metadata": {},
   "outputs": [
    {
     "data": {
      "text/html": [
       "<div>\n",
       "<style scoped>\n",
       "    .dataframe tbody tr th:only-of-type {\n",
       "        vertical-align: middle;\n",
       "    }\n",
       "\n",
       "    .dataframe tbody tr th {\n",
       "        vertical-align: top;\n",
       "    }\n",
       "\n",
       "    .dataframe thead th {\n",
       "        text-align: right;\n",
       "    }\n",
       "</style>\n",
       "<table border=\"1\" class=\"dataframe\">\n",
       "  <thead>\n",
       "    <tr style=\"text-align: right;\">\n",
       "      <th></th>\n",
       "      <th>LotArea_log</th>\n",
       "      <th>1stFlrSF_log</th>\n",
       "      <th>GrLivArea_log</th>\n",
       "      <th>SalePrice_log</th>\n",
       "    </tr>\n",
       "  </thead>\n",
       "  <tbody>\n",
       "    <tr>\n",
       "      <td>0</td>\n",
       "      <td>9.041922</td>\n",
       "      <td>6.752270</td>\n",
       "      <td>7.444249</td>\n",
       "      <td>12.247694</td>\n",
       "    </tr>\n",
       "    <tr>\n",
       "      <td>1</td>\n",
       "      <td>9.169518</td>\n",
       "      <td>7.140453</td>\n",
       "      <td>7.140453</td>\n",
       "      <td>12.109011</td>\n",
       "    </tr>\n",
       "    <tr>\n",
       "      <td>2</td>\n",
       "      <td>9.328123</td>\n",
       "      <td>6.824374</td>\n",
       "      <td>7.487734</td>\n",
       "      <td>12.317167</td>\n",
       "    </tr>\n",
       "    <tr>\n",
       "      <td>3</td>\n",
       "      <td>9.164296</td>\n",
       "      <td>6.867974</td>\n",
       "      <td>7.448334</td>\n",
       "      <td>11.849398</td>\n",
       "    </tr>\n",
       "    <tr>\n",
       "      <td>4</td>\n",
       "      <td>9.565214</td>\n",
       "      <td>7.043160</td>\n",
       "      <td>7.695303</td>\n",
       "      <td>12.429216</td>\n",
       "    </tr>\n",
       "  </tbody>\n",
       "</table>\n",
       "</div>"
      ],
      "text/plain": [
       "   LotArea_log  1stFlrSF_log  GrLivArea_log  SalePrice_log\n",
       "0     9.041922      6.752270       7.444249      12.247694\n",
       "1     9.169518      7.140453       7.140453      12.109011\n",
       "2     9.328123      6.824374       7.487734      12.317167\n",
       "3     9.164296      6.867974       7.448334      11.849398\n",
       "4     9.565214      7.043160       7.695303      12.429216"
      ]
     },
     "execution_count": 87,
     "metadata": {},
     "output_type": "execute_result"
    }
   ],
   "source": [
    "# continuous variables\n",
    "ames_cont = ames[continuous]\n",
    "ames_log = np.log(ames_cont)\n",
    "log_names = [f'{feature}_log' for feature in continuous]\n",
    "ames_log.columns = log_names\n",
    "ames_log.head()"
   ]
  },
  {
   "cell_type": "code",
   "execution_count": 88,
   "metadata": {},
   "outputs": [],
   "source": [
    "# helper function to normalize\n",
    "def normalize(feature):\n",
    "    return (feature - feature.mean()) / feature.std()"
   ]
  },
  {
   "cell_type": "code",
   "execution_count": 89,
   "metadata": {},
   "outputs": [],
   "source": [
    "# normalize ames_log\n",
    "ames_log_norm = ames_log.apply(normalize)"
   ]
  },
  {
   "cell_type": "code",
   "execution_count": 90,
   "metadata": {},
   "outputs": [],
   "source": [
    "# one hot encode categoricals\n",
    "ames_ohe = pd.get_dummies(ames[categoricals], prefix=categoricals, drop_first=True)"
   ]
  },
  {
   "cell_type": "code",
   "execution_count": 91,
   "metadata": {},
   "outputs": [],
   "source": [
    "# concat continuous with categorical\n",
    "preprocessed = pd.concat([ames_log_norm, ames_ohe], axis=1)\n",
    "X = preprocessed.drop(columns=['SalePrice_log'])\n",
    "y = preprocessed['SalePrice_log']"
   ]
  },
  {
   "cell_type": "code",
   "execution_count": 92,
   "metadata": {},
   "outputs": [
    {
     "data": {
      "text/plain": [
       "0.8174636844561984"
      ]
     },
     "execution_count": 92,
     "metadata": {},
     "output_type": "execute_result"
    }
   ],
   "source": [
    "#get baseline model\n",
    "regression = LinearRegression()\n",
    "crossvalidation = KFold(n_splits=10, shuffle=True, random_state=1)\n",
    "baseline = np.mean(cross_val_score(regression, X, y, cv=crossvalidation))\n",
    "baseline"
   ]
  },
  {
   "cell_type": "markdown",
   "metadata": {},
   "source": [
    "## See how interactions improve your baseline"
   ]
  },
  {
   "cell_type": "markdown",
   "metadata": {},
   "source": [
    "Next, create all possible combinations of interactions, loop over them and add them to the baseline model one by one to see how they affect the $R^2$. We'll look at the 3 interactions which have the biggest effect on our $R^2$, so print out the top 3 combinations.\n",
    "\n",
    "You will create a `for` loop to loop through all the combinations of 2 predictors. You can use `combinations` from itertools to create a list of all the pairwise combinations. To find more info on how this is done, have a look [here](https://docs.python.org/2/library/itertools.html).\n",
    "\n",
    "Since there are so many different neighbourhoods we will exclude"
   ]
  },
  {
   "cell_type": "code",
   "execution_count": 93,
   "metadata": {},
   "outputs": [],
   "source": [
    "from itertools import combinations"
   ]
  },
  {
   "cell_type": "code",
   "execution_count": 105,
   "metadata": {},
   "outputs": [
    {
     "data": {
      "text/plain": [
       "Index(['LotArea_log', '1stFlrSF_log', 'GrLivArea_log', 'BldgType_2fmCon',\n",
       "       'BldgType_Duplex', 'BldgType_Twnhs', 'BldgType_TwnhsE',\n",
       "       'KitchenQual_Fa', 'KitchenQual_Gd', 'KitchenQual_TA', 'SaleType_CWD',\n",
       "       'SaleType_Con', 'SaleType_ConLD', 'SaleType_ConLI', 'SaleType_ConLw',\n",
       "       'SaleType_New', 'SaleType_Oth', 'SaleType_WD', 'MSZoning_FV',\n",
       "       'MSZoning_RH', 'MSZoning_RL', 'MSZoning_RM', 'Street_Pave',\n",
       "       'Neighborhood_Blueste', 'Neighborhood_BrDale', 'Neighborhood_BrkSide',\n",
       "       'Neighborhood_ClearCr', 'Neighborhood_CollgCr', 'Neighborhood_Crawfor',\n",
       "       'Neighborhood_Edwards', 'Neighborhood_Gilbert', 'Neighborhood_IDOTRR',\n",
       "       'Neighborhood_MeadowV', 'Neighborhood_Mitchel', 'Neighborhood_NAmes',\n",
       "       'Neighborhood_NPkVill', 'Neighborhood_NWAmes', 'Neighborhood_NoRidge',\n",
       "       'Neighborhood_NridgHt', 'Neighborhood_OldTown', 'Neighborhood_SWISU',\n",
       "       'Neighborhood_Sawyer', 'Neighborhood_SawyerW', 'Neighborhood_Somerst',\n",
       "       'Neighborhood_StoneBr', 'Neighborhood_Timber', 'Neighborhood_Veenker'],\n",
       "      dtype='object')"
      ]
     },
     "execution_count": 105,
     "metadata": {},
     "output_type": "execute_result"
    }
   ],
   "source": [
    "features = X.columns\n",
    "features"
   ]
  },
  {
   "cell_type": "code",
   "execution_count": 106,
   "metadata": {},
   "outputs": [],
   "source": [
    "combos = combinations(features, 2)\n",
    "all_interactions = [combo for combo in combos]"
   ]
  },
  {
   "cell_type": "code",
   "execution_count": 111,
   "metadata": {},
   "outputs": [
    {
     "name": "stdout",
     "output_type": "stream",
     "text": [
      "('LotArea_log', '1stFlrSF_log') 0.8177808253078604\n",
      "('LotArea_log', 'BldgType_2fmCon') 0.8181603441154108\n",
      "('LotArea_log', 'KitchenQual_Fa') 0.8179028633875973\n",
      "('LotArea_log', 'KitchenQual_Gd') 0.8185111933490097\n",
      "('LotArea_log', 'KitchenQual_TA') 0.8181256011196583\n",
      "('LotArea_log', 'SaleType_Con') 0.8175774314593662\n",
      "('LotArea_log', 'SaleType_New') 0.8183259638768854\n",
      "('LotArea_log', 'SaleType_Oth') 0.8187451822913502\n",
      "('LotArea_log', 'SaleType_WD') 0.8184644282916084\n",
      "('LotArea_log', 'MSZoning_RH') 0.817628286442118\n",
      "('LotArea_log', 'MSZoning_RM') 0.817558725021885\n",
      "('LotArea_log', 'Neighborhood_BrkSide') 0.8195228553736742\n",
      "('LotArea_log', 'Neighborhood_Edwards') 0.8188308850559454\n",
      "('LotArea_log', 'Neighborhood_Mitchel') 0.8196447680686683\n",
      "('LotArea_log', 'Neighborhood_NoRidge') 0.8179939655000826\n",
      "('LotArea_log', 'Neighborhood_NridgHt') 0.8192448579373913\n",
      "('LotArea_log', 'Neighborhood_OldTown') 0.8179331439487916\n",
      "('LotArea_log', 'Neighborhood_Sawyer') 0.8177448506410391\n",
      "('LotArea_log', 'Neighborhood_SawyerW') 0.81805576796697\n",
      "('LotArea_log', 'Neighborhood_StoneBr') 0.8179921414720012\n",
      "('1stFlrSF_log', 'BldgType_Duplex') 0.8191446667521737\n",
      "('1stFlrSF_log', 'KitchenQual_Gd') 0.8185459313022099\n",
      "('1stFlrSF_log', 'KitchenQual_TA') 0.818430069114313\n",
      "('1stFlrSF_log', 'SaleType_ConLD') 0.8177208622378449\n",
      "('1stFlrSF_log', 'SaleType_ConLw') 0.817467232964432\n",
      "('1stFlrSF_log', 'MSZoning_FV') 0.8175166835716414\n",
      "('1stFlrSF_log', 'MSZoning_RL') 0.818338035517149\n",
      "('1stFlrSF_log', 'Neighborhood_BrkSide') 0.8174709496540695\n",
      "('1stFlrSF_log', 'Neighborhood_Crawfor') 0.8174689946165834\n",
      "('1stFlrSF_log', 'Neighborhood_Edwards') 0.8177679993723806\n",
      "('1stFlrSF_log', 'Neighborhood_NAmes') 0.8178460801965081\n",
      "('1stFlrSF_log', 'Neighborhood_NWAmes') 0.8174879262299724\n",
      "('1stFlrSF_log', 'Neighborhood_NoRidge') 0.8183706297309474\n",
      "('1stFlrSF_log', 'Neighborhood_NridgHt') 0.8187497960368522\n",
      "('1stFlrSF_log', 'Neighborhood_SWISU') 0.8179448350913832\n",
      "('1stFlrSF_log', 'Neighborhood_Sawyer') 0.8184498685061463\n",
      "('1stFlrSF_log', 'Neighborhood_Somerst') 0.8175500443717201\n",
      "('1stFlrSF_log', 'Neighborhood_StoneBr') 0.8180200863468615\n",
      "('1stFlrSF_log', 'Neighborhood_Veenker') 0.8184790827813734\n",
      "('GrLivArea_log', 'BldgType_Duplex') 0.819620127969196\n",
      "('GrLivArea_log', 'BldgType_Twnhs') 0.8176858823785459\n",
      "('GrLivArea_log', 'KitchenQual_Fa') 0.8176802759404831\n",
      "('GrLivArea_log', 'KitchenQual_Gd') 0.8193241877118306\n",
      "('GrLivArea_log', 'KitchenQual_TA') 0.8196192484429915\n",
      "('GrLivArea_log', 'SaleType_Con') 0.8176009638315298\n",
      "('GrLivArea_log', 'SaleType_ConLw') 0.8181469893862211\n",
      "('GrLivArea_log', 'MSZoning_FV') 0.8176999427932026\n",
      "('GrLivArea_log', 'MSZoning_RL') 0.8174810251401544\n",
      "('GrLivArea_log', 'Neighborhood_BrkSide') 0.8178974135888764\n",
      "('GrLivArea_log', 'Neighborhood_CollgCr') 0.8177534248653922\n",
      "('GrLivArea_log', 'Neighborhood_Crawfor') 0.8176952021552975\n",
      "('GrLivArea_log', 'Neighborhood_Edwards') 0.818603500800451\n",
      "('GrLivArea_log', 'Neighborhood_MeadowV') 0.8175772345617475\n",
      "('GrLivArea_log', 'Neighborhood_Mitchel') 0.8174985355076639\n",
      "('GrLivArea_log', 'Neighborhood_NAmes') 0.8181620770057872\n",
      "('GrLivArea_log', 'Neighborhood_NoRidge') 0.8186033299947969\n",
      "('GrLivArea_log', 'Neighborhood_NridgHt') 0.8186113413577758\n",
      "('GrLivArea_log', 'Neighborhood_Sawyer') 0.8184085083007566\n",
      "('GrLivArea_log', 'Neighborhood_SawyerW') 0.8182915802200048\n",
      "('GrLivArea_log', 'Neighborhood_Somerst') 0.8176439785801923\n",
      "('GrLivArea_log', 'Neighborhood_StoneBr') 0.8175613390509777\n",
      "('GrLivArea_log', 'Neighborhood_Timber') 0.8177474033217879\n",
      "('GrLivArea_log', 'Neighborhood_Veenker') 0.8175980826714744\n",
      "('BldgType_2fmCon', 'MSZoning_RH') 0.8174654817201648\n",
      "('BldgType_2fmCon', 'MSZoning_RM') 0.8177641553452512\n",
      "('BldgType_2fmCon', 'Neighborhood_SWISU') 0.8182311319745177\n",
      "('BldgType_2fmCon', 'Neighborhood_Timber') 0.8175458371703762\n",
      "('BldgType_Duplex', 'Street_Pave') 0.8196563892558343\n",
      "('BldgType_Duplex', 'Neighborhood_Edwards') 0.8192640599816852\n",
      "('BldgType_Duplex', 'Neighborhood_IDOTRR') 0.8174944024897149\n",
      "('BldgType_Duplex', 'Neighborhood_NAmes') 0.8179489277983716\n",
      "('BldgType_Duplex', 'Neighborhood_NWAmes') 0.8174835051189533\n",
      "('BldgType_Duplex', 'Neighborhood_OldTown') 0.8180810688815816\n",
      "('BldgType_Duplex', 'Neighborhood_Sawyer') 0.8184564497987067\n",
      "('BldgType_Duplex', 'Neighborhood_SawyerW') 0.8175619387353217\n",
      "('BldgType_Twnhs', 'KitchenQual_Gd') 0.8176079022657167\n",
      "('BldgType_Twnhs', 'KitchenQual_TA') 0.8175857931853587\n",
      "('BldgType_Twnhs', 'MSZoning_RL') 0.8174649867711414\n",
      "('BldgType_Twnhs', 'Neighborhood_Blueste') 0.8174661510534795\n",
      "('BldgType_Twnhs', 'Neighborhood_Mitchel') 0.8174941441972656\n",
      "('BldgType_Twnhs', 'Neighborhood_NPkVill') 0.8174773328408135\n",
      "('BldgType_Twnhs', 'Neighborhood_NridgHt') 0.817616512209195\n",
      "('BldgType_TwnhsE', 'KitchenQual_TA') 0.8177191629066188\n",
      "('BldgType_TwnhsE', 'SaleType_Con') 0.8177821888669632\n",
      "('BldgType_TwnhsE', 'SaleType_New') 0.817497108536638\n",
      "('BldgType_TwnhsE', 'SaleType_WD') 0.8182409334080297\n",
      "('BldgType_TwnhsE', 'MSZoning_RH') 0.8185889697272388\n",
      "('BldgType_TwnhsE', 'MSZoning_RL') 0.8186969187983781\n",
      "('BldgType_TwnhsE', 'MSZoning_RM') 0.8177205749937435\n",
      "('BldgType_TwnhsE', 'Neighborhood_Crawfor') 0.8187398397493473\n",
      "('BldgType_TwnhsE', 'Neighborhood_Edwards') 0.8177956591116151\n",
      "('BldgType_TwnhsE', 'Neighborhood_Mitchel') 0.8174659603709852\n",
      "('BldgType_TwnhsE', 'Neighborhood_NAmes') 0.8185889697272388\n",
      "('BldgType_TwnhsE', 'Neighborhood_NPkVill') 0.8174773328408135\n",
      "('BldgType_TwnhsE', 'Neighborhood_NridgHt') 0.818094186870373\n",
      "('BldgType_TwnhsE', 'Neighborhood_StoneBr') 0.8187427548029594\n",
      "('KitchenQual_Fa', 'SaleType_ConLw') 0.817468221812233\n",
      "('KitchenQual_Fa', 'MSZoning_RH') 0.8177234010913501\n",
      "('KitchenQual_Fa', 'MSZoning_RM') 0.8177303570139639\n",
      "('KitchenQual_Fa', 'Neighborhood_SWISU') 0.8179740457176748\n",
      "('KitchenQual_Fa', 'Neighborhood_Sawyer') 0.8174739879009787\n",
      "('KitchenQual_Gd', 'SaleType_ConLI') 0.8174678478413899\n",
      "('KitchenQual_Gd', 'MSZoning_FV') 0.8178255378543418\n",
      "('KitchenQual_Gd', 'Neighborhood_BrDale') 0.8174730683879865\n",
      "('KitchenQual_Gd', 'Neighborhood_CollgCr') 0.8175223123728413\n",
      "('KitchenQual_Gd', 'Neighborhood_Crawfor') 0.8175022743194316\n",
      "('KitchenQual_Gd', 'Neighborhood_NAmes') 0.8175473063957124\n",
      "('KitchenQual_Gd', 'Neighborhood_NPkVill') 0.8174903973505412\n",
      "('KitchenQual_Gd', 'Neighborhood_NoRidge') 0.8179408378554813\n",
      "('KitchenQual_Gd', 'Neighborhood_Sawyer') 0.8177112950549533\n",
      "('KitchenQual_Gd', 'Neighborhood_SawyerW') 0.8178284670231764\n",
      "('KitchenQual_Gd', 'Neighborhood_Somerst') 0.8175979988785278\n",
      "('KitchenQual_Gd', 'Neighborhood_Veenker') 0.8174912001910422\n",
      "('KitchenQual_TA', 'SaleType_New') 0.817778072841417\n",
      "('KitchenQual_TA', 'MSZoning_FV') 0.8178316520884158\n",
      "('KitchenQual_TA', 'Neighborhood_BrDale') 0.8175516397100175\n",
      "('KitchenQual_TA', 'Neighborhood_Crawfor') 0.8175706425919514\n",
      "('KitchenQual_TA', 'Neighborhood_NAmes') 0.8175041852377329\n",
      "('KitchenQual_TA', 'Neighborhood_NPkVill') 0.8175147499302874\n",
      "('KitchenQual_TA', 'Neighborhood_Sawyer') 0.8174977550521085\n",
      "('KitchenQual_TA', 'Neighborhood_SawyerW') 0.8178284670231764\n",
      "('KitchenQual_TA', 'Neighborhood_Somerst') 0.8178316520884158\n",
      "('KitchenQual_TA', 'Neighborhood_Veenker') 0.8176929829111206\n",
      "('SaleType_Con', 'MSZoning_RL') 0.8177821888669632\n",
      "('SaleType_Con', 'Neighborhood_Veenker') 0.8177821888669632\n",
      "('SaleType_ConLD', 'MSZoning_RM') 0.8174851293739799\n",
      "('SaleType_ConLI', 'Neighborhood_NridgHt') 0.8175964060336322\n",
      "('SaleType_ConLw', 'Neighborhood_BrkSide') 0.817468221812233\n",
      "('SaleType_ConLw', 'Neighborhood_OldTown') 0.8174747150735167\n",
      "('SaleType_New', 'MSZoning_RM') 0.8179346172604343\n",
      "('SaleType_New', 'Neighborhood_Crawfor') 0.8176497644141787\n",
      "('SaleType_New', 'Neighborhood_StoneBr') 0.8182396253391829\n",
      "('SaleType_New', 'Neighborhood_Timber') 0.8177026131900075\n",
      "('SaleType_Oth', 'Neighborhood_Mitchel') 0.8177037009627741\n",
      "('SaleType_WD', 'Neighborhood_Gilbert') 0.8174646784644525\n",
      "('SaleType_WD', 'Neighborhood_IDOTRR') 0.8176121146644627\n",
      "('SaleType_WD', 'Neighborhood_Mitchel') 0.8181563177482865\n",
      "('SaleType_WD', 'Neighborhood_NAmes') 0.8176492233129533\n",
      "('SaleType_WD', 'Neighborhood_NPkVill') 0.817474601783438\n",
      "('SaleType_WD', 'Neighborhood_NridgHt') 0.8178375144105644\n",
      "('SaleType_WD', 'Neighborhood_StoneBr') 0.8180290493103302\n",
      "('SaleType_WD', 'Neighborhood_Veenker') 0.8176433431535557\n"
     ]
    },
    {
     "name": "stdout",
     "output_type": "stream",
     "text": [
      "('MSZoning_RH', 'Neighborhood_NAmes') 0.8185889697272388\n",
      "('MSZoning_RH', 'Neighborhood_SWISU') 0.8183348892800494\n",
      "('MSZoning_RH', 'Neighborhood_SawyerW') 0.8188104075307606\n",
      "('MSZoning_RL', 'Neighborhood_BrkSide') 0.8180970632936317\n",
      "('MSZoning_RL', 'Neighborhood_Crawfor') 0.8177183784826901\n",
      "('MSZoning_RL', 'Neighborhood_Mitchel') 0.8181487352855108\n",
      "('MSZoning_RL', 'Neighborhood_NAmes') 0.8185889697272388\n",
      "('MSZoning_RL', 'Neighborhood_NridgHt') 0.8176030368352845\n",
      "('MSZoning_RL', 'Neighborhood_SWISU') 0.8183348892800494\n",
      "('MSZoning_RL', 'Neighborhood_Sawyer') 0.818182279723719\n",
      "('MSZoning_RL', 'Neighborhood_SawyerW') 0.8188104075307606\n",
      "('MSZoning_RM', 'Neighborhood_BrkSide') 0.8180970632936315\n",
      "('MSZoning_RM', 'Neighborhood_Crawfor') 0.8187398397493473\n",
      "('MSZoning_RM', 'Neighborhood_Edwards') 0.8176152721565246\n",
      "('MSZoning_RM', 'Neighborhood_IDOTRR') 0.8180902031693108\n",
      "('MSZoning_RM', 'Neighborhood_Mitchel') 0.8181487352855108\n",
      "('MSZoning_RM', 'Neighborhood_NridgHt') 0.817498100206992\n",
      "('MSZoning_RM', 'Neighborhood_Sawyer') 0.8181822797237193\n",
      "('Street_Pave', 'Neighborhood_Edwards') 0.8182604135052935\n",
      "('Street_Pave', 'Neighborhood_Timber') 0.8174948466153558\n"
     ]
    }
   ],
   "source": [
    "# store interaction results in dictionary\n",
    "interactions = []\n",
    "\n",
    "for i, interaction in enumerate(all_interactions):\n",
    "    X_interact = X.copy()\n",
    "    X_interact[interaction] = X[interaction[0]] * X[interaction[1]]\n",
    "    r_squared = np.mean(cross_val_score(regression, X_interact, y, scoring='r2', cv=crossvalidation))\n",
    "    \n",
    "    if (r_squared > baseline):\n",
    "        results[interaction] = r_squared\n",
    "        print(interaction, r_squared)"
   ]
  },
  {
   "cell_type": "code",
   "execution_count": 118,
   "metadata": {},
   "outputs": [],
   "source": [
    "sorted_dict = {k: v for k, v in sorted(results.items(), key=lambda item: item[1], reverse=True)}"
   ]
  },
  {
   "cell_type": "code",
   "execution_count": 119,
   "metadata": {},
   "outputs": [
    {
     "data": {
      "text/plain": [
       "{('BldgType_Duplex', 'Street_Pave'): 0.8196563892558343,\n",
       " ('LotArea_log', 'Neighborhood_Mitchel'): 0.8196447680686683,\n",
       " ('GrLivArea_log', 'BldgType_Duplex'): 0.819620127969196,\n",
       " ('GrLivArea_log', 'KitchenQual_TA'): 0.8196192484429915,\n",
       " ('LotArea_log', 'Neighborhood_BrkSide'): 0.8195228553736742,\n",
       " ('GrLivArea_log', 'KitchenQual_Gd'): 0.8193241877118306,\n",
       " ('BldgType_Duplex', 'Neighborhood_Edwards'): 0.8192640599816852,\n",
       " ('LotArea_log', 'Neighborhood_NridgHt'): 0.8192448579373913,\n",
       " ('1stFlrSF_log', 'BldgType_Duplex'): 0.8191446667521737,\n",
       " ('LotArea_log', 'Neighborhood_Edwards'): 0.8188308850559454,\n",
       " ('MSZoning_RH', 'Neighborhood_SawyerW'): 0.8188104075307606,\n",
       " ('MSZoning_RL', 'Neighborhood_SawyerW'): 0.8188104075307606,\n",
       " ('1stFlrSF_log', 'Neighborhood_NridgHt'): 0.8187497960368522,\n",
       " ('LotArea_log', 'SaleType_Oth'): 0.8187451822913502,\n",
       " ('BldgType_TwnhsE', 'Neighborhood_StoneBr'): 0.8187427548029594,\n",
       " ('BldgType_TwnhsE', 'Neighborhood_Crawfor'): 0.8187398397493473,\n",
       " ('MSZoning_RM', 'Neighborhood_Crawfor'): 0.8187398397493473,\n",
       " ('BldgType_TwnhsE', 'MSZoning_RL'): 0.8186969187983781,\n",
       " ('GrLivArea_log', 'Neighborhood_NridgHt'): 0.8186113413577758,\n",
       " ('GrLivArea_log', 'Neighborhood_Edwards'): 0.818603500800451,\n",
       " ('GrLivArea_log', 'Neighborhood_NoRidge'): 0.8186033299947969,\n",
       " ('BldgType_TwnhsE', 'MSZoning_RH'): 0.8185889697272388,\n",
       " ('BldgType_TwnhsE', 'Neighborhood_NAmes'): 0.8185889697272388,\n",
       " ('MSZoning_RH', 'Neighborhood_NAmes'): 0.8185889697272388,\n",
       " ('MSZoning_RL', 'Neighborhood_NAmes'): 0.8185889697272388,\n",
       " ('1stFlrSF_log', 'KitchenQual_Gd'): 0.8185459313022099,\n",
       " ('LotArea_log', 'KitchenQual_Gd'): 0.8185111933490097,\n",
       " ('1stFlrSF_log', 'Neighborhood_Veenker'): 0.8184790827813734,\n",
       " ('LotArea_log', 'SaleType_WD'): 0.8184644282916084,\n",
       " ('BldgType_Duplex', 'Neighborhood_Sawyer'): 0.8184564497987067,\n",
       " ('1stFlrSF_log', 'Neighborhood_Sawyer'): 0.8184498685061463,\n",
       " ('1stFlrSF_log', 'KitchenQual_TA'): 0.818430069114313,\n",
       " ('GrLivArea_log', 'Neighborhood_Sawyer'): 0.8184085083007566,\n",
       " ('1stFlrSF_log', 'Neighborhood_NoRidge'): 0.8183706297309474,\n",
       " ('1stFlrSF_log', 'MSZoning_RL'): 0.818338035517149,\n",
       " ('MSZoning_RH', 'Neighborhood_SWISU'): 0.8183348892800494,\n",
       " ('MSZoning_RL', 'Neighborhood_SWISU'): 0.8183348892800494,\n",
       " ('LotArea_log', 'SaleType_New'): 0.8183259638768854,\n",
       " ('GrLivArea_log', 'Neighborhood_SawyerW'): 0.8182915802200048,\n",
       " ('Street_Pave', 'Neighborhood_Edwards'): 0.8182604135052935,\n",
       " ('BldgType_TwnhsE', 'SaleType_WD'): 0.8182409334080297,\n",
       " ('SaleType_New', 'Neighborhood_StoneBr'): 0.8182396253391829,\n",
       " ('BldgType_2fmCon', 'Neighborhood_SWISU'): 0.8182311319745177,\n",
       " ('MSZoning_RM', 'Neighborhood_Sawyer'): 0.8181822797237193,\n",
       " ('MSZoning_RL', 'Neighborhood_Sawyer'): 0.818182279723719,\n",
       " ('GrLivArea_log', 'Neighborhood_NAmes'): 0.8181620770057872,\n",
       " ('LotArea_log', 'BldgType_2fmCon'): 0.8181603441154108,\n",
       " ('SaleType_WD', 'Neighborhood_Mitchel'): 0.8181563177482865,\n",
       " ('MSZoning_RL', 'Neighborhood_Mitchel'): 0.8181487352855108,\n",
       " ('MSZoning_RM', 'Neighborhood_Mitchel'): 0.8181487352855108,\n",
       " ('GrLivArea_log', 'SaleType_ConLw'): 0.8181469893862211,\n",
       " ('LotArea_log', 'KitchenQual_TA'): 0.8181256011196583,\n",
       " ('MSZoning_RL', 'Neighborhood_BrkSide'): 0.8180970632936317,\n",
       " ('MSZoning_RM', 'Neighborhood_BrkSide'): 0.8180970632936315,\n",
       " ('BldgType_TwnhsE', 'Neighborhood_NridgHt'): 0.818094186870373,\n",
       " ('MSZoning_RM', 'Neighborhood_IDOTRR'): 0.8180902031693108,\n",
       " ('BldgType_Duplex', 'Neighborhood_OldTown'): 0.8180810688815816,\n",
       " ('LotArea_log', 'Neighborhood_SawyerW'): 0.81805576796697,\n",
       " ('SaleType_WD', 'Neighborhood_StoneBr'): 0.8180290493103302,\n",
       " ('1stFlrSF_log', 'Neighborhood_StoneBr'): 0.8180200863468615,\n",
       " ('LotArea_log', 'Neighborhood_NoRidge'): 0.8179939655000826,\n",
       " ('LotArea_log', 'Neighborhood_StoneBr'): 0.8179921414720012,\n",
       " ('KitchenQual_Fa', 'Neighborhood_SWISU'): 0.8179740457176748,\n",
       " ('BldgType_Duplex', 'Neighborhood_NAmes'): 0.8179489277983716,\n",
       " ('1stFlrSF_log', 'Neighborhood_SWISU'): 0.8179448350913832,\n",
       " ('KitchenQual_Gd', 'Neighborhood_NoRidge'): 0.8179408378554813,\n",
       " ('SaleType_New', 'MSZoning_RM'): 0.8179346172604343,\n",
       " ('LotArea_log', 'Neighborhood_OldTown'): 0.8179331439487916,\n",
       " ('LotArea_log', 'KitchenQual_Fa'): 0.8179028633875973,\n",
       " ('GrLivArea_log', 'Neighborhood_BrkSide'): 0.8178974135888764,\n",
       " ('1stFlrSF_log', 'Neighborhood_NAmes'): 0.8178460801965081,\n",
       " ('SaleType_WD', 'Neighborhood_NridgHt'): 0.8178375144105644,\n",
       " ('KitchenQual_TA', 'MSZoning_FV'): 0.8178316520884158,\n",
       " ('KitchenQual_TA', 'Neighborhood_Somerst'): 0.8178316520884158,\n",
       " ('KitchenQual_Gd', 'Neighborhood_SawyerW'): 0.8178284670231764,\n",
       " ('KitchenQual_TA', 'Neighborhood_SawyerW'): 0.8178284670231764,\n",
       " ('KitchenQual_Gd', 'MSZoning_FV'): 0.8178255378543418,\n",
       " ('BldgType_TwnhsE', 'Neighborhood_Edwards'): 0.8177956591116151,\n",
       " ('BldgType_TwnhsE', 'SaleType_Con'): 0.8177821888669632,\n",
       " ('SaleType_Con', 'MSZoning_RL'): 0.8177821888669632,\n",
       " ('SaleType_Con', 'Neighborhood_Veenker'): 0.8177821888669632,\n",
       " ('LotArea_log', '1stFlrSF_log'): 0.8177808253078604,\n",
       " ('KitchenQual_TA', 'SaleType_New'): 0.817778072841417,\n",
       " ('1stFlrSF_log', 'Neighborhood_Edwards'): 0.8177679993723806,\n",
       " ('BldgType_2fmCon', 'MSZoning_RM'): 0.8177641553452512,\n",
       " ('GrLivArea_log', 'Neighborhood_CollgCr'): 0.8177534248653922,\n",
       " ('GrLivArea_log', 'Neighborhood_Timber'): 0.8177474033217879,\n",
       " ('LotArea_log', 'Neighborhood_Sawyer'): 0.8177448506410391,\n",
       " ('KitchenQual_Fa', 'MSZoning_RM'): 0.8177303570139639,\n",
       " ('KitchenQual_Fa', 'MSZoning_RH'): 0.8177234010913501,\n",
       " ('1stFlrSF_log', 'SaleType_ConLD'): 0.8177208622378449,\n",
       " ('BldgType_TwnhsE', 'MSZoning_RM'): 0.8177205749937435,\n",
       " ('BldgType_TwnhsE', 'KitchenQual_TA'): 0.8177191629066188,\n",
       " ('MSZoning_RL', 'Neighborhood_Crawfor'): 0.8177183784826901,\n",
       " ('KitchenQual_Gd', 'Neighborhood_Sawyer'): 0.8177112950549533,\n",
       " ('SaleType_Oth', 'Neighborhood_Mitchel'): 0.8177037009627741,\n",
       " ('SaleType_New', 'Neighborhood_Timber'): 0.8177026131900075,\n",
       " ('GrLivArea_log', 'MSZoning_FV'): 0.8176999427932026,\n",
       " ('GrLivArea_log', 'Neighborhood_Crawfor'): 0.8176952021552975,\n",
       " ('KitchenQual_TA', 'Neighborhood_Veenker'): 0.8176929829111206,\n",
       " ('GrLivArea_log', 'BldgType_Twnhs'): 0.8176858823785459,\n",
       " ('GrLivArea_log', 'KitchenQual_Fa'): 0.8176802759404831,\n",
       " ('SaleType_New', 'Neighborhood_Crawfor'): 0.8176497644141787,\n",
       " ('SaleType_WD', 'Neighborhood_NAmes'): 0.8176492233129533,\n",
       " ('GrLivArea_log', 'Neighborhood_Somerst'): 0.8176439785801923,\n",
       " ('SaleType_WD', 'Neighborhood_Veenker'): 0.8176433431535557,\n",
       " ('LotArea_log', 'MSZoning_RH'): 0.817628286442118,\n",
       " ('BldgType_Twnhs', 'Neighborhood_NridgHt'): 0.817616512209195,\n",
       " ('MSZoning_RM', 'Neighborhood_Edwards'): 0.8176152721565246,\n",
       " ('SaleType_WD', 'Neighborhood_IDOTRR'): 0.8176121146644627,\n",
       " ('BldgType_Twnhs', 'KitchenQual_Gd'): 0.8176079022657167,\n",
       " ('MSZoning_RL', 'Neighborhood_NridgHt'): 0.8176030368352845,\n",
       " ('GrLivArea_log', 'SaleType_Con'): 0.8176009638315298,\n",
       " ('GrLivArea_log', 'Neighborhood_Veenker'): 0.8175980826714744,\n",
       " ('KitchenQual_Gd', 'Neighborhood_Somerst'): 0.8175979988785278,\n",
       " ('SaleType_ConLI', 'Neighborhood_NridgHt'): 0.8175964060336322,\n",
       " ('BldgType_Twnhs', 'KitchenQual_TA'): 0.8175857931853587,\n",
       " ('LotArea_log', 'SaleType_Con'): 0.8175774314593662,\n",
       " ('GrLivArea_log', 'Neighborhood_MeadowV'): 0.8175772345617475,\n",
       " ('KitchenQual_TA', 'Neighborhood_Crawfor'): 0.8175706425919514,\n",
       " ('BldgType_Duplex', 'Neighborhood_SawyerW'): 0.8175619387353217,\n",
       " ('GrLivArea_log', 'Neighborhood_StoneBr'): 0.8175613390509777,\n",
       " ('LotArea_log', 'MSZoning_RM'): 0.817558725021885,\n",
       " ('KitchenQual_TA', 'Neighborhood_BrDale'): 0.8175516397100175,\n",
       " ('1stFlrSF_log', 'Neighborhood_Somerst'): 0.8175500443717201,\n",
       " ('KitchenQual_Gd', 'Neighborhood_NAmes'): 0.8175473063957124,\n",
       " ('BldgType_2fmCon', 'Neighborhood_Timber'): 0.8175458371703762,\n",
       " ('KitchenQual_Gd', 'Neighborhood_CollgCr'): 0.8175223123728413,\n",
       " ('1stFlrSF_log', 'MSZoning_FV'): 0.8175166835716414,\n",
       " ('KitchenQual_TA', 'Neighborhood_NPkVill'): 0.8175147499302874,\n",
       " ('KitchenQual_TA', 'Neighborhood_NAmes'): 0.8175041852377329,\n",
       " ('KitchenQual_Gd', 'Neighborhood_Crawfor'): 0.8175022743194316,\n",
       " ('GrLivArea_log', 'Neighborhood_Mitchel'): 0.8174985355076639,\n",
       " ('MSZoning_RM', 'Neighborhood_NridgHt'): 0.817498100206992,\n",
       " ('KitchenQual_TA', 'Neighborhood_Sawyer'): 0.8174977550521085,\n",
       " ('BldgType_TwnhsE', 'SaleType_New'): 0.817497108536638,\n",
       " ('Street_Pave', 'Neighborhood_Timber'): 0.8174948466153558,\n",
       " ('BldgType_Duplex', 'Neighborhood_IDOTRR'): 0.8174944024897149,\n",
       " ('BldgType_Twnhs', 'Neighborhood_Mitchel'): 0.8174941441972656,\n",
       " ('KitchenQual_Gd', 'Neighborhood_Veenker'): 0.8174912001910422,\n",
       " ('KitchenQual_Gd', 'Neighborhood_NPkVill'): 0.8174903973505412,\n",
       " ('1stFlrSF_log', 'Neighborhood_NWAmes'): 0.8174879262299724,\n",
       " ('SaleType_ConLD', 'MSZoning_RM'): 0.8174851293739799,\n",
       " ('BldgType_Duplex', 'Neighborhood_NWAmes'): 0.8174835051189533,\n",
       " ('GrLivArea_log', 'MSZoning_RL'): 0.8174810251401544,\n",
       " ('BldgType_Twnhs', 'Neighborhood_NPkVill'): 0.8174773328408135,\n",
       " ('BldgType_TwnhsE', 'Neighborhood_NPkVill'): 0.8174773328408135,\n",
       " ('SaleType_ConLw', 'Neighborhood_OldTown'): 0.8174747150735167,\n",
       " ('SaleType_WD', 'Neighborhood_NPkVill'): 0.817474601783438,\n",
       " ('KitchenQual_Fa', 'Neighborhood_Sawyer'): 0.8174739879009787,\n",
       " ('KitchenQual_Gd', 'Neighborhood_BrDale'): 0.8174730683879865,\n",
       " ('1stFlrSF_log', 'Neighborhood_BrkSide'): 0.8174709496540695,\n",
       " ('1stFlrSF_log', 'Neighborhood_Crawfor'): 0.8174689946165834,\n",
       " ('KitchenQual_Fa', 'SaleType_ConLw'): 0.817468221812233,\n",
       " ('SaleType_ConLw', 'Neighborhood_BrkSide'): 0.817468221812233,\n",
       " ('KitchenQual_Gd', 'SaleType_ConLI'): 0.8174678478413899,\n",
       " ('1stFlrSF_log', 'SaleType_ConLw'): 0.817467232964432,\n",
       " ('BldgType_Twnhs', 'Neighborhood_Blueste'): 0.8174661510534795,\n",
       " ('BldgType_TwnhsE', 'Neighborhood_Mitchel'): 0.8174659603709852,\n",
       " ('BldgType_2fmCon', 'MSZoning_RH'): 0.8174654817201648,\n",
       " ('BldgType_Twnhs', 'MSZoning_RL'): 0.8174649867711414,\n",
       " ('SaleType_WD', 'Neighborhood_Gilbert'): 0.8174646784644525}"
      ]
     },
     "execution_count": 119,
     "metadata": {},
     "output_type": "execute_result"
    }
   ],
   "source": [
    "sorted_dict"
   ]
  },
  {
   "cell_type": "markdown",
   "metadata": {},
   "source": [
    "It looks like the top interactions involve the Neighborhood_Edwards feature so lets add the interaction between LotArea and Edwards to our model.\n",
    "\n",
    "We can interpret this feature as the relationship between LotArea and SalePrice when the house is in Edwards or not."
   ]
  },
  {
   "cell_type": "markdown",
   "metadata": {},
   "source": [
    "## Visualize the Interaction\n",
    "\n",
    "Separate all houses that are located in Edwards and those that are not. Run a linear regression on each population against `SalePrice`. Visualize the regression line and data points with price on the y axis and LotArea on the x axis."
   ]
  },
  {
   "cell_type": "code",
   "execution_count": null,
   "metadata": {},
   "outputs": [],
   "source": [
    "# Visualization code here"
   ]
  },
  {
   "cell_type": "markdown",
   "metadata": {},
   "source": [
    "## Build a final model with interactions"
   ]
  },
  {
   "cell_type": "markdown",
   "metadata": {},
   "source": [
    "Use 10-fold cross-validation to build a model using the above interaction. "
   ]
  },
  {
   "cell_type": "code",
   "execution_count": null,
   "metadata": {},
   "outputs": [],
   "source": [
    "# code here"
   ]
  },
  {
   "cell_type": "markdown",
   "metadata": {},
   "source": [
    "Our $R^2$ has increased considerably! Let's have a look in `statsmodels` to see if this interactions are significant."
   ]
  },
  {
   "cell_type": "code",
   "execution_count": null,
   "metadata": {},
   "outputs": [],
   "source": [
    "# code here"
   ]
  },
  {
   "cell_type": "markdown",
   "metadata": {},
   "source": [
    "What is your conclusion here?"
   ]
  },
  {
   "cell_type": "code",
   "execution_count": null,
   "metadata": {},
   "outputs": [],
   "source": [
    "# formulate your conclusion"
   ]
  },
  {
   "cell_type": "markdown",
   "metadata": {},
   "source": [
    "## Summary"
   ]
  },
  {
   "cell_type": "markdown",
   "metadata": {},
   "source": [
    "You should now understand how to include interaction effects in your model! As you can see, interactions can have a strong impact on linear regression models, and they should always be considered when you are constructing your models."
   ]
  }
 ],
 "metadata": {
  "kernelspec": {
   "display_name": "Python 3",
   "language": "python",
   "name": "python3"
  },
  "language_info": {
   "codemirror_mode": {
    "name": "ipython",
    "version": 3
   },
   "file_extension": ".py",
   "mimetype": "text/x-python",
   "name": "python",
   "nbconvert_exporter": "python",
   "pygments_lexer": "ipython3",
   "version": "3.6.9"
  }
 },
 "nbformat": 4,
 "nbformat_minor": 2
}
